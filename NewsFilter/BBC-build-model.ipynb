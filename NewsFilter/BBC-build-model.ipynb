{
 "cells": [
  {
   "cell_type": "markdown",
   "metadata": {},
   "source": [
    "# Preprocessing\n",
    "\n",
    "## Load and preprocess data\n",
    "The model will be trained and make predictions based on the articles' titles and summaries"
   ]
  },
  {
   "cell_type": "code",
   "execution_count": 1,
   "metadata": {},
   "outputs": [],
   "source": [
    "import pandas as pd\n",
    "\n",
    "data = pd.read_csv('bbc_world_train.csv')\n",
    "data['Text'] = data['Title'] + ' ' + data['Summary']\n",
    "data['Text'] = data['Text'].str.lower()"
   ]
  },
  {
   "cell_type": "markdown",
   "metadata": {},
   "source": [
    "## Vectorize data"
   ]
  },
  {
   "cell_type": "code",
   "execution_count": 2,
   "metadata": {},
   "outputs": [],
   "source": [
    "from sklearn.feature_extraction.text import TfidfVectorizer\n",
    "\n",
    "tfidf_vectorizer = TfidfVectorizer(max_features=1000)\n",
    "X = tfidf_vectorizer.fit_transform(data['Text'])\n",
    "y = data['Interesting']"
   ]
  },
  {
   "cell_type": "markdown",
   "metadata": {},
   "source": [
    "## Split data"
   ]
  },
  {
   "cell_type": "code",
   "execution_count": 3,
   "metadata": {},
   "outputs": [],
   "source": [
    "from sklearn.model_selection import train_test_split\n",
    "\n",
    "X_train, X_test, y_train, y_test = train_test_split(X, y, test_size=0.2, random_state=42)"
   ]
  },
  {
   "cell_type": "markdown",
   "metadata": {},
   "source": [
    "# Model performance comparison\n",
    "Compare different models (logistic regression, random forest, gradient boosting tree, support vector classifier, multilayer perceptron) to see which one has the best performance\n",
    "## Without grid search"
   ]
  },
  {
   "cell_type": "code",
   "execution_count": 4,
   "metadata": {},
   "outputs": [
    {
     "name": "stdout",
     "output_type": "stream",
     "text": [
      "Model: Logistic Regression\n",
      "Accuracy: 0.79\n",
      "Precision: 0.69\n",
      "Recall: 0.74\n",
      "F1-Score: 0.72\n",
      "\n",
      "\n",
      "Model: Random Forest\n",
      "Accuracy: 0.78\n",
      "Precision: 0.72\n",
      "Recall: 0.66\n",
      "F1-Score: 0.68\n",
      "\n",
      "\n",
      "Model: Gradient Boosting\n",
      "Accuracy: 0.76\n",
      "Precision: 0.67\n",
      "Recall: 0.67\n",
      "F1-Score: 0.67\n",
      "\n",
      "\n",
      "Model: Support Vector Classifier\n",
      "Accuracy: 0.82\n",
      "Precision: 0.75\n",
      "Recall: 0.74\n",
      "F1-Score: 0.75\n",
      "\n",
      "\n",
      "Model: Multilayer Perceptron\n",
      "Accuracy: 0.76\n",
      "Precision: 0.64\n",
      "Recall: 0.76\n",
      "F1-Score: 0.69\n",
      "\n",
      "\n"
     ]
    }
   ],
   "source": [
    "from sklearn.linear_model import LogisticRegression\n",
    "from sklearn.ensemble import RandomForestClassifier, GradientBoostingClassifier\n",
    "from sklearn.svm import SVC\n",
    "from sklearn.neural_network import MLPClassifier\n",
    "from sklearn.metrics import accuracy_score, precision_score, recall_score, f1_score\n",
    "\n",
    "models = {\n",
    "    'Logistic Regression': LogisticRegression(),\n",
    "    'Random Forest': RandomForestClassifier(),\n",
    "    'Gradient Boosting': GradientBoostingClassifier(),\n",
    "    'Support Vector Classifier': SVC(),\n",
    "    'Multilayer Perceptron': MLPClassifier()\n",
    "}\n",
    "\n",
    "results = {}\n",
    "\n",
    "for model_name, model in models.items():\n",
    "    model.fit(X_train, y_train)\n",
    "    y_pred = model.predict(X_test)\n",
    "    \n",
    "    accuracy = accuracy_score(y_test, y_pred)\n",
    "    precision = precision_score(y_test, y_pred)\n",
    "    recall = recall_score(y_test, y_pred)\n",
    "    f1 = f1_score(y_test, y_pred)\n",
    "    \n",
    "    results[model_name] = {\n",
    "        'Accuracy': accuracy,\n",
    "        'Precision': precision,\n",
    "        'Recall': recall,\n",
    "        'F1-Score': f1\n",
    "    }\n",
    "\n",
    "for model_name, metrics in results.items():\n",
    "    print(f\"Model: {model_name}\")\n",
    "    print(f\"Accuracy: {metrics['Accuracy']:.2f}\")\n",
    "    print(f\"Precision: {metrics['Precision']:.2f}\")\n",
    "    print(f\"Recall: {metrics['Recall']:.2f}\")\n",
    "    print(f\"F1-Score: {metrics['F1-Score']:.2f}\")\n",
    "    print(\"\\n\")\n"
   ]
  },
  {
   "cell_type": "markdown",
   "metadata": {},
   "source": [
    "## With grid search"
   ]
  },
  {
   "cell_type": "code",
   "execution_count": 9,
   "metadata": {},
   "outputs": [
    {
     "name": "stdout",
     "output_type": "stream",
     "text": [
      "Model: Logistic Regression\n",
      "Best Parameters: {'C': 10.0, 'solver': 'liblinear'}\n",
      "Accuracy: 0.80\n",
      "Precision: 0.69\n",
      "Recall: 0.81\n",
      "F1-Score: 0.75\n",
      "\n",
      "\n",
      "Model: Random Forest\n",
      "Best Parameters: {'max_depth': None, 'n_estimators': 200}\n",
      "Accuracy: 0.79\n",
      "Precision: 0.71\n",
      "Recall: 0.69\n",
      "F1-Score: 0.70\n",
      "\n",
      "\n",
      "Model: Gradient Boosting\n",
      "Best Parameters: {'learning_rate': 0.2, 'n_estimators': 150}\n",
      "Accuracy: 0.77\n",
      "Precision: 0.67\n",
      "Recall: 0.71\n",
      "F1-Score: 0.69\n",
      "\n",
      "\n",
      "Model: Support Vector Classifier\n",
      "Best Parameters: {'svc__C': 10.0, 'svc__gamma': 0.1}\n",
      "Accuracy: 0.77\n",
      "Precision: 0.67\n",
      "Recall: 0.72\n",
      "F1-Score: 0.69\n",
      "\n",
      "\n",
      "Model: Multilayer Perceptron\n",
      "Best Parameters: {'mlp__alpha': 0.01, 'mlp__hidden_layer_sizes': (100, 100)}\n",
      "Accuracy: 0.78\n",
      "Precision: 0.67\n",
      "Recall: 0.74\n",
      "F1-Score: 0.70\n",
      "\n",
      "\n"
     ]
    }
   ],
   "source": [
    "from sklearn.model_selection import GridSearchCV\n",
    "from sklearn.linear_model import LogisticRegression\n",
    "from sklearn.ensemble import RandomForestClassifier, GradientBoostingClassifier\n",
    "from sklearn.svm import SVC\n",
    "from sklearn.neural_network import MLPClassifier\n",
    "from sklearn.preprocessing import MinMaxScaler, StandardScaler, MaxAbsScaler\n",
    "from sklearn.metrics import accuracy_score, precision_score, recall_score, f1_score\n",
    "from sklearn.pipeline import Pipeline\n",
    "\n",
    "\n",
    "models = {\n",
    "    'Logistic Regression': {\n",
    "        'model': LogisticRegression(),\n",
    "        'params': {'C': [0.1, 1.0, 10.0], 'solver': ['liblinear', 'lbfgs']}\n",
    "    },\n",
    "    'Random Forest': {\n",
    "        'model': RandomForestClassifier(),\n",
    "        'params': {'n_estimators': [100, 200, 300], 'max_depth': [None, 10, 20]}\n",
    "    },\n",
    "    'Gradient Boosting': {\n",
    "        'model': GradientBoostingClassifier(),\n",
    "        'params': {'n_estimators': [50, 100, 150], 'learning_rate': [0.01, 0.1, 0.2]}\n",
    "    },\n",
    "    'Support Vector Classifier': {\n",
    "        'model': Pipeline([\n",
    "            ('scaler', MaxAbsScaler()),\n",
    "            ('svc', SVC())\n",
    "        ]),\n",
    "        'params': {'svc__C': [0.1, 1.0, 10.0], 'svc__gamma': [0.1, 1.0, 10.0]}\n",
    "    },\n",
    "    'Multilayer Perceptron': {\n",
    "        'model': Pipeline([\n",
    "            ('scaler', StandardScaler(with_mean=False)),\n",
    "            ('mlp', MLPClassifier())\n",
    "        ]),\n",
    "        'params': {'mlp__hidden_layer_sizes': [(50, 50), (100, 100), (50, 100)], 'mlp__alpha': [0.0001, 0.001, 0.01]}\n",
    "    }\n",
    "}\n",
    "\n",
    "results = {}\n",
    "\n",
    "for model_name, model_info in models.items():\n",
    "    model = model_info['model']\n",
    "    param_grid = model_info['params']\n",
    "    \n",
    "    # Perform grid search with cross-validation\n",
    "    grid_search = GridSearchCV(model, param_grid, cv=3, scoring='f1', verbose=0, n_jobs=-1)\n",
    "    grid_search.fit(X_train, y_train)\n",
    "    \n",
    "    # Get the best estimator (model with the best parameters)\n",
    "    best_model = grid_search.best_estimator_\n",
    "    \n",
    "    # Evaluate the best model\n",
    "    y_pred = best_model.predict(X_test)\n",
    "    \n",
    "    accuracy = accuracy_score(y_test, y_pred)\n",
    "    precision = precision_score(y_test, y_pred)\n",
    "    recall = recall_score(y_test, y_pred)\n",
    "    f1 = f1_score(y_test, y_pred)\n",
    "    \n",
    "    results[model_name] = {\n",
    "        'Best Parameters': grid_search.best_params_,\n",
    "        'Accuracy': accuracy,\n",
    "        'Precision': precision,\n",
    "        'Recall': recall,\n",
    "        'F1-Score': f1\n",
    "    }\n",
    "\n",
    "# Print the results\n",
    "for model_name, metrics in results.items():\n",
    "    print(f\"Model: {model_name}\")\n",
    "    print(f\"Best Parameters: {metrics['Best Parameters']}\")\n",
    "    print(f\"Accuracy: {metrics['Accuracy']:.2f}\")\n",
    "    print(f\"Precision: {metrics['Precision']:.2f}\")\n",
    "    print(f\"Recall: {metrics['Recall']:.2f}\")\n",
    "    print(f\"F1-Score: {metrics['F1-Score']:.2f}\")\n",
    "    print(\"\\n\")\n"
   ]
  },
  {
   "cell_type": "markdown",
   "metadata": {},
   "source": [
    "# Train the model\n",
    "Because logistic regression is the one that has the best performance, train it using the full training set"
   ]
  },
  {
   "cell_type": "code",
   "execution_count": 10,
   "metadata": {},
   "outputs": [],
   "source": [
    "from sklearn.linear_model import LogisticRegression\n",
    "\n",
    "model = LogisticRegression(C=10, solver='liblinear').fit(X, y)"
   ]
  },
  {
   "cell_type": "markdown",
   "metadata": {},
   "source": [
    "# Save the model and the vectorizer to files"
   ]
  },
  {
   "cell_type": "code",
   "execution_count": 11,
   "metadata": {},
   "outputs": [
    {
     "data": {
      "text/plain": [
       "['bbc_world_vectorizer.pkl']"
      ]
     },
     "execution_count": 11,
     "metadata": {},
     "output_type": "execute_result"
    }
   ],
   "source": [
    "import joblib\n",
    "\n",
    "joblib.dump(model, \"bbc_world_model.pkl\")\n",
    "joblib.dump(tfidf_vectorizer, \"bbc_world_vectorizer.pkl\")"
   ]
  }
 ],
 "metadata": {
  "kernelspec": {
   "display_name": "Python 3",
   "language": "python",
   "name": "python3"
  },
  "language_info": {
   "codemirror_mode": {
    "name": "ipython",
    "version": 3
   },
   "file_extension": ".py",
   "mimetype": "text/x-python",
   "name": "python",
   "nbconvert_exporter": "python",
   "pygments_lexer": "ipython3",
   "version": "3.10.1"
  },
  "orig_nbformat": 4
 },
 "nbformat": 4,
 "nbformat_minor": 2
}
